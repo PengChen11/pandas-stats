{
 "cells": [
  {
   "cell_type": "markdown",
   "metadata": {},
   "source": [
    "# Data Analysis with Pandas - cycle share data set"
   ]
  },
  {
   "cell_type": "markdown",
   "metadata": {},
   "source": [
    "## Peng Chen,    May 27 2020"
   ]
  },
  {
   "cell_type": "code",
   "execution_count": 1,
   "metadata": {},
   "outputs": [],
   "source": [
    "import pandas as pd\n",
    "import numpy as np"
   ]
  },
  {
   "cell_type": "markdown",
   "metadata": {},
   "source": [
    "### trip.csv file has duplicated 50792 lines with a duplicated head. I've deleted that."
   ]
  },
  {
   "cell_type": "code",
   "execution_count": 2,
   "metadata": {},
   "outputs": [],
   "source": [
    "trip = pd.read_csv('./trip.csv')\n",
    "station = pd.read_csv('./station.csv')\n",
    "weather = pd.read_csv('./weather.csv')"
   ]
  },
  {
   "cell_type": "markdown",
   "metadata": {},
   "source": [
    "## 1. What is the average trip duration for a borrowed bicycle?"
   ]
  },
  {
   "cell_type": "code",
   "execution_count": 3,
   "metadata": {},
   "outputs": [
    {
     "name": "stdout",
     "output_type": "stream",
     "text": [
      "The average trip duration is 20.04 miniutes\n"
     ]
    }
   ],
   "source": [
    "duration = trip[\"tripduration\"].mean()\n",
    "print(f\"The average trip duration is {round(duration/60, 2)} miniutes\")"
   ]
  },
  {
   "cell_type": "markdown",
   "metadata": {},
   "source": [
    "## 2. What’s the most common age of a bicycle-sharer?"
   ]
  },
  {
   "cell_type": "code",
   "execution_count": 4,
   "metadata": {},
   "outputs": [
    {
     "data": {
      "text/plain": [
       "33"
      ]
     },
     "execution_count": 4,
     "metadata": {},
     "output_type": "execute_result"
    }
   ],
   "source": [
    "# trip.applymap(np.isreal)[\"birthyear\"]\n",
    "int(2020-trip[trip['birthyear'].notna()]['birthyear'].mode())"
   ]
  },
  {
   "cell_type": "markdown",
   "metadata": {},
   "source": [
    "## 3. Given all the weather data here, find the average precipitation per month, and the median precipitation."
   ]
  },
  {
   "cell_type": "code",
   "execution_count": 5,
   "metadata": {},
   "outputs": [],
   "source": [
    "date = pd.to_datetime(weather[\"Date\"])"
   ]
  },
  {
   "cell_type": "code",
   "execution_count": 6,
   "metadata": {},
   "outputs": [
    {
     "name": "stdout",
     "output_type": "stream",
     "text": [
      "In January, the average precipitation is 0.14 inchs and median precipitation is 0.02 inchs.\n",
      "In February, the average precipitation is 0.17 inchs and median precipitation is 0.04 inchs.\n",
      "In March, the average precipitation is 0.16 inchs and median precipitation is 0.02 inchs.\n",
      "In April, the average precipitation is 0.05 inchs and median precipitation is 0.0 inchs.\n",
      "In May, the average precipitation is 0.01 inchs and median precipitation is 0.0 inchs.\n",
      "In June, the average precipitation is 0.03 inchs and median precipitation is 0.0 inchs.\n",
      "In July, the average precipitation is 0.01 inchs and median precipitation is 0.0 inchs.\n",
      "In August, the average precipitation is 0.02 inchs and median precipitation is 0.0 inchs.\n",
      "In September, the average precipitation is 0.04 inchs and median precipitation is 0.0 inchs.\n",
      "In October, the average precipitation is 0.19 inchs and median precipitation is 0.04 inchs.\n",
      "In November, the average precipitation is 0.19 inchs and median precipitation is 0.04 inchs.\n",
      "In December, the average precipitation is 0.24 inchs and median precipitation is 0.1 inchs.\n"
     ]
    }
   ],
   "source": [
    "month = [\"January\",\"February\",\"March\",\"April\",\"May\",\"June\",\"July\",\"August\",\"September\",\"October\",\"November\",\"December\"]\n",
    "for i in range(12):\n",
    "    mean = round(weather[date.dt.month==i+1]['Precipitation_In'].mean(),2)\n",
    "    median = round(weather[date.dt.month==i+1]['Precipitation_In'].median(),2)\n",
    "    print(f\"In {month[i]}, the average precipitation is {mean} inchs and median precipitation is {median} inchs.\")"
   ]
  },
  {
   "cell_type": "markdown",
   "metadata": {},
   "source": [
    "## 4. What’s the average number of bikes at a given bike station?"
   ]
  },
  {
   "cell_type": "code",
   "execution_count": 7,
   "metadata": {},
   "outputs": [
    {
     "data": {
      "text/plain": [
       "'10/13/2014'"
      ]
     },
     "execution_count": 7,
     "metadata": {},
     "output_type": "execute_result"
    }
   ],
   "source": [
    "date_format = trip[trip[\"to_station_id\"]==\"PS-04\"][\"stoptime\"].iloc[0][:10]\n",
    "date_format"
   ]
  },
  {
   "cell_type": "code",
   "execution_count": 8,
   "metadata": {},
   "outputs": [
    {
     "data": {
      "text/html": [
       "<div>\n",
       "<style scoped>\n",
       "    .dataframe tbody tr th:only-of-type {\n",
       "        vertical-align: middle;\n",
       "    }\n",
       "\n",
       "    .dataframe tbody tr th {\n",
       "        vertical-align: top;\n",
       "    }\n",
       "\n",
       "    .dataframe thead th {\n",
       "        text-align: right;\n",
       "    }\n",
       "</style>\n",
       "<table border=\"1\" class=\"dataframe\">\n",
       "  <thead>\n",
       "    <tr style=\"text-align: right;\">\n",
       "      <th></th>\n",
       "      <th>trip_id</th>\n",
       "      <th>starttime</th>\n",
       "      <th>stoptime</th>\n",
       "      <th>bikeid</th>\n",
       "      <th>tripduration</th>\n",
       "      <th>from_station_name</th>\n",
       "      <th>to_station_name</th>\n",
       "      <th>from_station_id</th>\n",
       "      <th>to_station_id</th>\n",
       "      <th>usertype</th>\n",
       "      <th>gender</th>\n",
       "      <th>birthyear</th>\n",
       "    </tr>\n",
       "  </thead>\n",
       "  <tbody>\n",
       "    <tr>\n",
       "      <th>6</th>\n",
       "      <td>437</td>\n",
       "      <td>10/13/2014 11:35</td>\n",
       "      <td>10/13/2014 11:45</td>\n",
       "      <td>SEA00202</td>\n",
       "      <td>596.715</td>\n",
       "      <td>Occidental Park / Occidental Ave S &amp; S Washing...</td>\n",
       "      <td>King Street Station Plaza / 2nd Ave Extension ...</td>\n",
       "      <td>PS-04</td>\n",
       "      <td>PS-05</td>\n",
       "      <td>Member</td>\n",
       "      <td>Male</td>\n",
       "      <td>1978.0</td>\n",
       "    </tr>\n",
       "    <tr>\n",
       "      <th>7</th>\n",
       "      <td>438</td>\n",
       "      <td>10/13/2014 11:35</td>\n",
       "      <td>10/13/2014 11:45</td>\n",
       "      <td>SEA00311</td>\n",
       "      <td>592.131</td>\n",
       "      <td>Occidental Park / Occidental Ave S &amp; S Washing...</td>\n",
       "      <td>King Street Station Plaza / 2nd Ave Extension ...</td>\n",
       "      <td>PS-04</td>\n",
       "      <td>PS-05</td>\n",
       "      <td>Member</td>\n",
       "      <td>Male</td>\n",
       "      <td>1983.0</td>\n",
       "    </tr>\n",
       "    <tr>\n",
       "      <th>8</th>\n",
       "      <td>439</td>\n",
       "      <td>10/13/2014 11:35</td>\n",
       "      <td>10/13/2014 11:45</td>\n",
       "      <td>SEA00486</td>\n",
       "      <td>586.347</td>\n",
       "      <td>Occidental Park / Occidental Ave S &amp; S Washing...</td>\n",
       "      <td>King Street Station Plaza / 2nd Ave Extension ...</td>\n",
       "      <td>PS-04</td>\n",
       "      <td>PS-05</td>\n",
       "      <td>Member</td>\n",
       "      <td>Female</td>\n",
       "      <td>1974.0</td>\n",
       "    </tr>\n",
       "    <tr>\n",
       "      <th>9</th>\n",
       "      <td>440</td>\n",
       "      <td>10/13/2014 11:35</td>\n",
       "      <td>10/13/2014 11:45</td>\n",
       "      <td>SEA00434</td>\n",
       "      <td>587.634</td>\n",
       "      <td>Occidental Park / Occidental Ave S &amp; S Washing...</td>\n",
       "      <td>King Street Station Plaza / 2nd Ave Extension ...</td>\n",
       "      <td>PS-04</td>\n",
       "      <td>PS-05</td>\n",
       "      <td>Member</td>\n",
       "      <td>Male</td>\n",
       "      <td>1958.0</td>\n",
       "    </tr>\n",
       "    <tr>\n",
       "      <th>10</th>\n",
       "      <td>441</td>\n",
       "      <td>10/13/2014 11:36</td>\n",
       "      <td>10/13/2014 11:45</td>\n",
       "      <td>SEA00195</td>\n",
       "      <td>564.899</td>\n",
       "      <td>Occidental Park / Occidental Ave S &amp; S Washing...</td>\n",
       "      <td>King Street Station Plaza / 2nd Ave Extension ...</td>\n",
       "      <td>PS-04</td>\n",
       "      <td>PS-05</td>\n",
       "      <td>Member</td>\n",
       "      <td>Female</td>\n",
       "      <td>1983.0</td>\n",
       "    </tr>\n",
       "    <tr>\n",
       "      <th>...</th>\n",
       "      <td>...</td>\n",
       "      <td>...</td>\n",
       "      <td>...</td>\n",
       "      <td>...</td>\n",
       "      <td>...</td>\n",
       "      <td>...</td>\n",
       "      <td>...</td>\n",
       "      <td>...</td>\n",
       "      <td>...</td>\n",
       "      <td>...</td>\n",
       "      <td>...</td>\n",
       "      <td>...</td>\n",
       "    </tr>\n",
       "    <tr>\n",
       "      <th>235833</th>\n",
       "      <td>255010</td>\n",
       "      <td>8/31/2016 9:07</td>\n",
       "      <td>8/31/2016 9:29</td>\n",
       "      <td>SEA00199</td>\n",
       "      <td>1340.863</td>\n",
       "      <td>Occidental Park / Occidental Ave S &amp; S Washing...</td>\n",
       "      <td>2nd Ave &amp; Vine St</td>\n",
       "      <td>PS-04</td>\n",
       "      <td>BT-03</td>\n",
       "      <td>Short-Term Pass Holder</td>\n",
       "      <td>NaN</td>\n",
       "      <td>NaN</td>\n",
       "    </tr>\n",
       "    <tr>\n",
       "      <th>235834</th>\n",
       "      <td>255011</td>\n",
       "      <td>8/31/2016 9:07</td>\n",
       "      <td>8/31/2016 9:29</td>\n",
       "      <td>SEA00047</td>\n",
       "      <td>1351.410</td>\n",
       "      <td>Occidental Park / Occidental Ave S &amp; S Washing...</td>\n",
       "      <td>2nd Ave &amp; Vine St</td>\n",
       "      <td>PS-04</td>\n",
       "      <td>BT-03</td>\n",
       "      <td>Short-Term Pass Holder</td>\n",
       "      <td>NaN</td>\n",
       "      <td>NaN</td>\n",
       "    </tr>\n",
       "    <tr>\n",
       "      <th>235902</th>\n",
       "      <td>255080</td>\n",
       "      <td>8/31/2016 12:43</td>\n",
       "      <td>8/31/2016 13:06</td>\n",
       "      <td>SEA00086</td>\n",
       "      <td>1364.656</td>\n",
       "      <td>Occidental Park / Occidental Ave S &amp; S Washing...</td>\n",
       "      <td>6th Ave &amp; Blanchard St</td>\n",
       "      <td>PS-04</td>\n",
       "      <td>BT-04</td>\n",
       "      <td>Short-Term Pass Holder</td>\n",
       "      <td>NaN</td>\n",
       "      <td>NaN</td>\n",
       "    </tr>\n",
       "    <tr>\n",
       "      <th>235965</th>\n",
       "      <td>255144</td>\n",
       "      <td>8/31/2016 17:09</td>\n",
       "      <td>8/31/2016 17:41</td>\n",
       "      <td>SEA00047</td>\n",
       "      <td>1904.080</td>\n",
       "      <td>Occidental Park / Occidental Ave S &amp; S Washing...</td>\n",
       "      <td>Occidental Park / Occidental Ave S &amp; S Washing...</td>\n",
       "      <td>PS-04</td>\n",
       "      <td>PS-04</td>\n",
       "      <td>Short-Term Pass Holder</td>\n",
       "      <td>NaN</td>\n",
       "      <td>NaN</td>\n",
       "    </tr>\n",
       "    <tr>\n",
       "      <th>235995</th>\n",
       "      <td>255175</td>\n",
       "      <td>8/31/2016 18:10</td>\n",
       "      <td>8/31/2016 18:31</td>\n",
       "      <td>SEA00047</td>\n",
       "      <td>1242.193</td>\n",
       "      <td>Occidental Park / Occidental Ave S &amp; S Washing...</td>\n",
       "      <td>Cal Anderson Park / 11th Ave &amp; Pine St</td>\n",
       "      <td>PS-04</td>\n",
       "      <td>CH-08</td>\n",
       "      <td>Member</td>\n",
       "      <td>Male</td>\n",
       "      <td>1986.0</td>\n",
       "    </tr>\n",
       "  </tbody>\n",
       "</table>\n",
       "<p>4585 rows × 12 columns</p>\n",
       "</div>"
      ],
      "text/plain": [
       "        trip_id         starttime          stoptime    bikeid  tripduration  \\\n",
       "6           437  10/13/2014 11:35  10/13/2014 11:45  SEA00202       596.715   \n",
       "7           438  10/13/2014 11:35  10/13/2014 11:45  SEA00311       592.131   \n",
       "8           439  10/13/2014 11:35  10/13/2014 11:45  SEA00486       586.347   \n",
       "9           440  10/13/2014 11:35  10/13/2014 11:45  SEA00434       587.634   \n",
       "10          441  10/13/2014 11:36  10/13/2014 11:45  SEA00195       564.899   \n",
       "...         ...               ...               ...       ...           ...   \n",
       "235833   255010    8/31/2016 9:07    8/31/2016 9:29  SEA00199      1340.863   \n",
       "235834   255011    8/31/2016 9:07    8/31/2016 9:29  SEA00047      1351.410   \n",
       "235902   255080   8/31/2016 12:43   8/31/2016 13:06  SEA00086      1364.656   \n",
       "235965   255144   8/31/2016 17:09   8/31/2016 17:41  SEA00047      1904.080   \n",
       "235995   255175   8/31/2016 18:10   8/31/2016 18:31  SEA00047      1242.193   \n",
       "\n",
       "                                        from_station_name  \\\n",
       "6       Occidental Park / Occidental Ave S & S Washing...   \n",
       "7       Occidental Park / Occidental Ave S & S Washing...   \n",
       "8       Occidental Park / Occidental Ave S & S Washing...   \n",
       "9       Occidental Park / Occidental Ave S & S Washing...   \n",
       "10      Occidental Park / Occidental Ave S & S Washing...   \n",
       "...                                                   ...   \n",
       "235833  Occidental Park / Occidental Ave S & S Washing...   \n",
       "235834  Occidental Park / Occidental Ave S & S Washing...   \n",
       "235902  Occidental Park / Occidental Ave S & S Washing...   \n",
       "235965  Occidental Park / Occidental Ave S & S Washing...   \n",
       "235995  Occidental Park / Occidental Ave S & S Washing...   \n",
       "\n",
       "                                          to_station_name from_station_id  \\\n",
       "6       King Street Station Plaza / 2nd Ave Extension ...           PS-04   \n",
       "7       King Street Station Plaza / 2nd Ave Extension ...           PS-04   \n",
       "8       King Street Station Plaza / 2nd Ave Extension ...           PS-04   \n",
       "9       King Street Station Plaza / 2nd Ave Extension ...           PS-04   \n",
       "10      King Street Station Plaza / 2nd Ave Extension ...           PS-04   \n",
       "...                                                   ...             ...   \n",
       "235833                                  2nd Ave & Vine St           PS-04   \n",
       "235834                                  2nd Ave & Vine St           PS-04   \n",
       "235902                             6th Ave & Blanchard St           PS-04   \n",
       "235965  Occidental Park / Occidental Ave S & S Washing...           PS-04   \n",
       "235995             Cal Anderson Park / 11th Ave & Pine St           PS-04   \n",
       "\n",
       "       to_station_id                usertype  gender  birthyear  \n",
       "6              PS-05                  Member    Male     1978.0  \n",
       "7              PS-05                  Member    Male     1983.0  \n",
       "8              PS-05                  Member  Female     1974.0  \n",
       "9              PS-05                  Member    Male     1958.0  \n",
       "10             PS-05                  Member  Female     1983.0  \n",
       "...              ...                     ...     ...        ...  \n",
       "235833         BT-03  Short-Term Pass Holder     NaN        NaN  \n",
       "235834         BT-03  Short-Term Pass Holder     NaN        NaN  \n",
       "235902         BT-04  Short-Term Pass Holder     NaN        NaN  \n",
       "235965         PS-04  Short-Term Pass Holder     NaN        NaN  \n",
       "235995         CH-08                  Member    Male     1986.0  \n",
       "\n",
       "[4585 rows x 12 columns]"
      ]
     },
     "execution_count": 8,
     "metadata": {},
     "output_type": "execute_result"
    }
   ],
   "source": [
    "trip[trip[\"from_station_id\"]==\"PS-04\"]"
   ]
  },
  {
   "cell_type": "markdown",
   "metadata": {},
   "source": [
    "### I don't know. I give up. here's my understanding about how to do it:\n",
    "If I am not mistaken, I need to:\n",
    "1. track daily record to see how many bikes in and out for a specific location\n",
    "2. use bike in minus bike out (pos means gaining, neg means loosing)\n",
    "3. calculate mean from step 2\n",
    "4. add the mean from step 3 to the number of dock count when the station is built.\n",
    "\n",
    "Is this correct??? if so, I don't know how to do it."
   ]
  },
  {
   "cell_type": "markdown",
   "metadata": {},
   "source": [
    "## 5. When a bike station is modified, is it more likely that it’ll lose bikes or gain bikes? How do you know?"
   ]
  },
  {
   "cell_type": "code",
   "execution_count": 9,
   "metadata": {},
   "outputs": [
    {
     "name": "stdout",
     "output_type": "stream",
     "text": [
      "It's more likely that a station will gain bikes after modification\n"
     ]
    }
   ],
   "source": [
    "modified= station[station[\"modification_date\"].notna()]\n",
    "result = len(modified[modified[\"install_dockcount\"]>modified[\"current_dockcount\"]])-len(modified[modified[\"install_dockcount\"]<modified[\"current_dockcount\"]])\n",
    "if result >0:\n",
    "    print(\"It's more likely that a station will gain bikes after modification\")\n",
    "elif result <0:\n",
    "    print(\"It's more likely that a station will lose bikes after modification\")\n",
    "else:\n",
    "    print(\"It's more likely that a station will not gain nor lose bikes after modification\")"
   ]
  },
  {
   "cell_type": "code",
   "execution_count": null,
   "metadata": {},
   "outputs": [],
   "source": []
  }
 ],
 "metadata": {
  "kernelspec": {
   "display_name": "Python 3",
   "language": "python",
   "name": "python3"
  },
  "language_info": {
   "codemirror_mode": {
    "name": "ipython",
    "version": 3
   },
   "file_extension": ".py",
   "mimetype": "text/x-python",
   "name": "python",
   "nbconvert_exporter": "python",
   "pygments_lexer": "ipython3",
   "version": "3.8.2"
  }
 },
 "nbformat": 4,
 "nbformat_minor": 4
}
