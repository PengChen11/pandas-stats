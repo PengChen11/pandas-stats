{
 "cells": [
  {
   "cell_type": "markdown",
   "metadata": {},
   "source": [
    "# Data Analysis with Pandas - cycle share data set"
   ]
  },
  {
   "cell_type": "markdown",
   "metadata": {},
   "source": [
    "## Peng Chen,    May 27 2020"
   ]
  },
  {
   "cell_type": "code",
   "execution_count": 1,
   "metadata": {},
   "outputs": [],
   "source": [
    "import pandas as pd\n",
    "import numpy as np"
   ]
  },
  {
   "cell_type": "markdown",
   "metadata": {},
   "source": [
    "### trip.csv file has duplicated 50792 lines with a duplicated head. I've deleted that."
   ]
  },
  {
   "cell_type": "code",
   "execution_count": 2,
   "metadata": {},
   "outputs": [],
   "source": [
    "trip = pd.read_csv('./trip.csv')\n",
    "station = pd.read_csv('./station.csv')\n",
    "weather = pd.read_csv('./weather.csv')"
   ]
  },
  {
   "cell_type": "markdown",
   "metadata": {},
   "source": [
    "## 1. What is the average trip duration for a borrowed bicycle?"
   ]
  },
  {
   "cell_type": "code",
   "execution_count": 3,
   "metadata": {},
   "outputs": [
    {
     "name": "stdout",
     "output_type": "stream",
     "text": [
      "The average trip duration is 20.04 miniutes\n"
     ]
    }
   ],
   "source": [
    "duration = trip[\"tripduration\"].mean()\n",
    "print(f\"The average trip duration is {round(duration/60, 2)} miniutes\")"
   ]
  },
  {
   "cell_type": "markdown",
   "metadata": {},
   "source": [
    "## 2. What’s the most common age of a bicycle-sharer?"
   ]
  },
  {
   "cell_type": "code",
   "execution_count": 4,
   "metadata": {},
   "outputs": [
    {
     "data": {
      "text/plain": [
       "33"
      ]
     },
     "execution_count": 4,
     "metadata": {},
     "output_type": "execute_result"
    }
   ],
   "source": [
    "# trip.applymap(np.isreal)[\"birthyear\"]\n",
    "int(2020-trip[trip['birthyear'].notna()]['birthyear'].mode())"
   ]
  },
  {
   "cell_type": "markdown",
   "metadata": {},
   "source": [
    "## 3. Given all the weather data here, find the average precipitation per month, and the median precipitation."
   ]
  },
  {
   "cell_type": "code",
   "execution_count": 5,
   "metadata": {},
   "outputs": [
    {
     "data": {
      "text/plain": [
       "0     2014-10-13\n",
       "1     2014-10-14\n",
       "2     2014-10-15\n",
       "3     2014-10-16\n",
       "4     2014-10-17\n",
       "         ...    \n",
       "684   2016-08-27\n",
       "685   2016-08-28\n",
       "686   2016-08-29\n",
       "687   2016-08-30\n",
       "688   2016-08-31\n",
       "Name: Date, Length: 689, dtype: datetime64[ns]"
      ]
     },
     "execution_count": 5,
     "metadata": {},
     "output_type": "execute_result"
    }
   ],
   "source": [
    "date = pd.to_datetime(weather[\"Date\"])\n",
    "date"
   ]
  },
  {
   "cell_type": "code",
   "execution_count": 6,
   "metadata": {},
   "outputs": [
    {
     "name": "stdout",
     "output_type": "stream",
     "text": [
      "In January, the average precipitation is 0.14 inchs and median precipitation is 0.02 inchs.\n",
      "In February, the average precipitation is 0.17 inchs and median precipitation is 0.04 inchs.\n",
      "In March, the average precipitation is 0.16 inchs and median precipitation is 0.02 inchs.\n",
      "In April, the average precipitation is 0.05 inchs and median precipitation is 0.0 inchs.\n",
      "In May, the average precipitation is 0.01 inchs and median precipitation is 0.0 inchs.\n",
      "In June, the average precipitation is 0.03 inchs and median precipitation is 0.0 inchs.\n",
      "In July, the average precipitation is 0.01 inchs and median precipitation is 0.0 inchs.\n",
      "In August, the average precipitation is 0.02 inchs and median precipitation is 0.0 inchs.\n",
      "In September, the average precipitation is 0.04 inchs and median precipitation is 0.0 inchs.\n",
      "In October, the average precipitation is 0.19 inchs and median precipitation is 0.04 inchs.\n",
      "In November, the average precipitation is 0.19 inchs and median precipitation is 0.04 inchs.\n",
      "In December, the average precipitation is 0.24 inchs and median precipitation is 0.1 inchs.\n"
     ]
    }
   ],
   "source": [
    "month = [\"January\",\"February\",\"March\",\"April\",\"May\",\"June\",\"July\",\"August\",\"September\",\"October\",\"November\",\"December\"]\n",
    "for i in range(12):\n",
    "    mean = round(weather[date.dt.month==i+1]['Precipitation_In'].mean(),2)\n",
    "    median = round(weather[date.dt.month==i+1]['Precipitation_In'].median(),2)\n",
    "    print(f\"In {month[i]}, the average precipitation is {mean} inchs and median precipitation is {median} inchs.\")"
   ]
  },
  {
   "cell_type": "markdown",
   "metadata": {},
   "source": [
    "## 4. What’s the average number of bikes at a given bike station?"
   ]
  },
  {
   "cell_type": "code",
   "execution_count": 16,
   "metadata": {},
   "outputs": [
    {
     "data": {
      "text/plain": [
       "17"
      ]
     },
     "execution_count": 16,
     "metadata": {},
     "output_type": "execute_result"
    }
   ],
   "source": [
    "int(station[station[\"decommission_date\"].isna()][\"current_dockcount\"].mean())"
   ]
  },
  {
   "cell_type": "markdown",
   "metadata": {},
   "source": [
    "## 5. When a bike station is modified, is it more likely that it’ll lose bikes or gain bikes? How do you know?"
   ]
  },
  {
   "cell_type": "code",
   "execution_count": 9,
   "metadata": {},
   "outputs": [
    {
     "name": "stdout",
     "output_type": "stream",
     "text": [
      "It's more likely that a station will gain bikes after modification\n"
     ]
    }
   ],
   "source": [
    "modified= station[station[\"modification_date\"].notna()]\n",
    "result = len(modified[modified[\"install_dockcount\"]>modified[\"current_dockcount\"]])-len(modified[modified[\"install_dockcount\"]<modified[\"current_dockcount\"]])\n",
    "if result >0:\n",
    "    print(\"It's more likely that a station will gain bikes after modification\")\n",
    "elif result <0:\n",
    "    print(\"It's more likely that a station will lose bikes after modification\")\n",
    "else:\n",
    "    print(\"It's more likely that a station will not gain nor lose bikes after modification\")"
   ]
  },
  {
   "cell_type": "markdown",
   "metadata": {},
   "source": [
    "### how did I know it? Cause there're more stations gain bikes after modification than the number of statioins that lose bikes. "
   ]
  },
  {
   "cell_type": "code",
   "execution_count": null,
   "metadata": {},
   "outputs": [],
   "source": []
  }
 ],
 "metadata": {
  "kernelspec": {
   "display_name": "Python 3",
   "language": "python",
   "name": "python3"
  },
  "language_info": {
   "codemirror_mode": {
    "name": "ipython",
    "version": 3
   },
   "file_extension": ".py",
   "mimetype": "text/x-python",
   "name": "python",
   "nbconvert_exporter": "python",
   "pygments_lexer": "ipython3",
   "version": "3.8.2"
  }
 },
 "nbformat": 4,
 "nbformat_minor": 4
}
